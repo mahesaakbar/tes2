{
  "nbformat": 4,
  "nbformat_minor": 0,
  "metadata": {
    "colab": {
      "name": "mahesiiiuu.ipynb",
      "provenance": [],
      "authorship_tag": "ABX9TyMpjwzofeFOVnuSZCcSva21",
      "include_colab_link": true
    },
    "kernelspec": {
      "name": "python3",
      "display_name": "Python 3"
    },
    "language_info": {
      "name": "python"
    }
  },
  "cells": [
    {
      "cell_type": "markdown",
      "metadata": {
        "id": "view-in-github",
        "colab_type": "text"
      },
      "source": [
        "<a href=\"https://colab.research.google.com/github/mahesaakbar/tes2/blob/main/mahesiiiuu.ipynb\" target=\"_parent\"><img src=\"https://colab.research.google.com/assets/colab-badge.svg\" alt=\"Open In Colab\"/></a>"
      ]
    },
    {
      "cell_type": "code",
      "execution_count": 14,
      "metadata": {
        "colab": {
          "base_uri": "https://localhost:8080/"
        },
        "id": "BdQzTzZG8PsH",
        "outputId": "db01f90c-cc61-4035-93ea-954b6a944bf6"
      },
      "outputs": [
        {
          "output_type": "stream",
          "name": "stdout",
          "text": [
            "SIIIUUU\n"
          ]
        }
      ],
      "source": [
        "n = \"selasa\"\n",
        "\n",
        "if( n == \"senin\" or 'selasa' ):\n",
        "  print('SIIIUUU')\n",
        "\n",
        "elif(n == \"minggu\"):\n",
        "  print('prei')"
      ]
    }
  ]
}